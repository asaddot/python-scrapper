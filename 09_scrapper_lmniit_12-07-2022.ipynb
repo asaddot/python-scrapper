{
 "cells": [
  {
   "cell_type": "code",
   "execution_count": 1,
   "metadata": {},
   "outputs": [],
   "source": [
    "from selenium import webdriver\n",
    "from selenium.webdriver.common.keys import Keys\n",
    "from selenium.webdriver.common.by import By\n",
    "\n",
    "import time\n",
    "import pandas as pd\n",
    "from bs4 import BeautifulSoup\n",
    "import requests"
   ]
  },
  {
   "cell_type": "code",
   "execution_count": 2,
   "metadata": {},
   "outputs": [
    {
     "name": "stderr",
     "output_type": "stream",
     "text": [
      "<ipython-input-2-360d5d1df67a>:3: DeprecationWarning: executable_path has been deprecated, please pass in a Service object\n",
      "  driver = webdriver.Chrome(path)\n"
     ]
    }
   ],
   "source": [
    "# instance of chrome web driver is created\n",
    "path = \"C:\\Program Files (x86)\\chromedriver.exe\"\n",
    "driver = webdriver.Chrome(path)"
   ]
  },
  {
   "cell_type": "code",
   "execution_count": 3,
   "metadata": {},
   "outputs": [],
   "source": [
    "driver.get(\"https://www.reddit.com/login/\")"
   ]
  },
  {
   "cell_type": "code",
   "execution_count": 4,
   "metadata": {},
   "outputs": [],
   "source": [
    "# for email and username\n",
    "\n",
    "input_username = driver.find_element(By.XPATH, '//input[@name=\"username\"]')\n",
    "input_username.send_keys(\"Electrical_Stage300\")"
   ]
  },
  {
   "cell_type": "code",
   "execution_count": 5,
   "metadata": {},
   "outputs": [],
   "source": [
    "# for password\n",
    "\n",
    "input_password = driver.find_element(By.XPATH, '//input[@name=\"password\"]')\n",
    "input_password.send_keys(\"Arju@00786\")\n",
    "\n",
    "# for pressing enter after entering password\n",
    "input_password.send_keys(Keys.RETURN)"
   ]
  },
  {
   "cell_type": "code",
   "execution_count": 6,
   "metadata": {},
   "outputs": [],
   "source": [
    "# searching in reddit\n",
    "\n",
    "searching = driver.find_element(By.XPATH, '//input[@name=\"q\"]')\n",
    "searching.send_keys(\"migraine\")\n",
    "# searching.send_keys(Keys.RETURN)"
   ]
  },
  {
   "cell_type": "code",
   "execution_count": 7,
   "metadata": {},
   "outputs": [],
   "source": [
    "searching.send_keys(Keys.RETURN)"
   ]
  },
  {
   "cell_type": "code",
   "execution_count": 8,
   "metadata": {},
   "outputs": [],
   "source": [
    "pagesource = driver.page_source"
   ]
  },
  {
   "cell_type": "code",
   "execution_count": 9,
   "metadata": {},
   "outputs": [],
   "source": [
    "soup = BeautifulSoup(pagesource, 'html.parser')"
   ]
  },
  {
   "cell_type": "code",
   "execution_count": 10,
   "metadata": {},
   "outputs": [],
   "source": [
    "list_post_container = soup.find_all('div',{'data-testid':'post-container'})"
   ]
  },
  {
   "cell_type": "code",
   "execution_count": 11,
   "metadata": {},
   "outputs": [
    {
     "data": {
      "text/plain": [
       "25"
      ]
     },
     "execution_count": 11,
     "metadata": {},
     "output_type": "execute_result"
    }
   ],
   "source": [
    "len(list_post_container)"
   ]
  },
  {
   "cell_type": "code",
   "execution_count": 15,
   "metadata": {},
   "outputs": [],
   "source": [
    "# extract upvotes and comments\n",
    "upvotes_list=[]\n",
    "comment_list = []\n",
    "for i in range(len(list_post_container)):\n",
    "    up = list_post_container[i].find_all('span',{'class':'_vaFo96phV6L5Hltvwcox'})\n",
    "#     first span is upvotes and second is comment third is award\n",
    "    \n",
    "    upvotes_list.append(up[0].get_text())\n",
    "    comment_list.append(up[1].get_text())\n",
    "\n",
    "    \n",
    "\n",
    "    \n",
    "    "
   ]
  },
  {
   "cell_type": "code",
   "execution_count": 16,
   "metadata": {},
   "outputs": [
    {
     "name": "stdout",
     "output_type": "stream",
     "text": [
      "['11.3k upvotes', '134 upvotes', '177 upvotes', '299 upvotes', '883 upvotes', '95 upvotes', '2 upvotes', '5 upvotes', '231 upvotes', '122 upvotes', '752 upvotes', '147 upvotes', '224 upvotes', '167 upvotes', '310 upvotes', '399 upvotes', '172 upvotes', '199 upvotes', '403 upvotes', '68 upvotes', '761 upvotes', '32 upvotes', '141 upvotes', '54 upvotes', '171 upvotes']\n",
      "['335 comments', '203 comments', '200 comments', '237 comments', '81 comments', '359 comments', '13 comments', '20 comments', '76 comments', '161 comments', '42 comments', '100 comments', '70 comments', '76 comments', '92 comments', '155 comments', '79 comments', '90 comments', '43 comments', '97 comments', '195 comments', '110 comments', '55 comments', '67 comments', '37 comments']\n",
      "25\n",
      "25\n"
     ]
    }
   ],
   "source": [
    "print(upvotes_list)\n",
    "print(comment_list)\n",
    "print(len(upvotes_list))\n",
    "print(len(comment_list))"
   ]
  },
  {
   "cell_type": "code",
   "execution_count": 17,
   "metadata": {},
   "outputs": [],
   "source": [
    "# now extract link of post container\n",
    "list_link_post_1 = []\n",
    "for link in range(len(list_post_container)):\n",
    "    a = list_post_container[link].find('a',{'data-click-id':'body'})\n",
    "    var_link_1 = a.get('href')\n",
    "    full_link_1 = 'https://www.reddit.com'+var_link_1\n",
    "    list_link_post_1.append(full_link_1)"
   ]
  },
  {
   "cell_type": "code",
   "execution_count": 18,
   "metadata": {},
   "outputs": [
    {
     "name": "stdout",
     "output_type": "stream",
     "text": [
      "['https://www.reddit.com/r/oddlyterrifying/comments/vh0rnt/found_this_while_searching_up_what_a_migraine/', 'https://www.reddit.com/r/migraine/comments/vcuxll/whats_your_unique_migraine_healing_protocol/', 'https://www.reddit.com/r/migraine/comments/veda0p/been_a_sufferer_since_i_was_18_im_40_now_new_bf/', 'https://www.reddit.com/r/illnessfakers/comments/ugn2yf/ashleys_migraine_just_wont_seem_to_go_away/', 'https://www.reddit.com/r/migraine/comments/ur6zba/my_brain_when_i_have_a_migraine/', 'https://www.reddit.com/r/migraine/comments/u5o31g/what_has_helped_your_migraines_the_most/', 'https://www.reddit.com/r/COVID19positive/comments/vk4iov/did_anyone_experience_migraine_like_headaches/', 'https://www.reddit.com/r/microdosing/comments/ucs0pe/anyone_have_any_luck_with_migraine_relief/', 'https://www.reddit.com/r/migraine/comments/tfghvh/my_neurologist_has_finally_found_a_combination/', 'https://www.reddit.com/r/migraine/comments/vvnj3a/24_hours_to_the_minute_after_leaving_the_hospital/', 'https://www.reddit.com/r/LuLaNo/comments/vuc52m/i_love_being_reminded_of_a_migraine_aura/', 'https://www.reddit.com/r/migraine/comments/vt6ggq/is_depression_a_migraine_symptom/', 'https://www.reddit.com/r/migraine/comments/vucda4/he_rolled_his_eyes_at_me_when_i_told_him_how_bad/', 'https://www.reddit.com/r/migraine/comments/vv7d4t/does_anybody_else_pee_more_frequently_before_a/', 'https://www.reddit.com/r/migraine/comments/vos05a/migraine_is_such_a_lonely_disease/', 'https://www.reddit.com/r/migraine/comments/vkz3l2/has_anyone_noticed_if_heat_is_a_migraine_trigger/', 'https://www.reddit.com/r/migraine/comments/vsq0sr/migraine_from_the_sunbeing_outside/', 'https://www.reddit.com/r/migraine/comments/vnxr4i/is_alcohol_a_migraine_trigger_you_may_be/', 'https://www.reddit.com/r/Marriage/comments/vs6pyu/i_went_to_the_hospital_for_a_migraine_today/', 'https://www.reddit.com/r/migraine/comments/vrg2rn/i_need_stories_from_migraine_people_who_have/', 'https://www.reddit.com/r/migraine/comments/v3mu2k/pinkies_out_for_the_migraine_wine/', 'https://www.reddit.com/r/migraine/comments/vrukgt/what_is_your_favorite_otc_med_for_migrainetension/', 'https://www.reddit.com/r/AskDocs/comments/vqewhk/migraine_aura_without_headache_for_6_hours_should/', 'https://www.reddit.com/r/migraine/comments/vtzxkb/why_does_it_always_seem_insurance_fights_migraine/', 'https://www.reddit.com/r/migraine/comments/vrk3y7/i_havent_had_a_migraine_with_aura_in_over_6/']\n",
      "25\n"
     ]
    }
   ],
   "source": [
    "print(list_link_post_1)\n",
    "print(len(list_link_post_1))"
   ]
  },
  {
   "cell_type": "code",
   "execution_count": 19,
   "metadata": {},
   "outputs": [],
   "source": [
    "# finding username\n",
    "username_list = []\n",
    "for link in range(len(list_post_container)):\n",
    "    a = list_post_container[link].find('a',{'data-click-id':'user'}).get_text()\n",
    "    username_list.append(a)"
   ]
  },
  {
   "cell_type": "code",
   "execution_count": 20,
   "metadata": {},
   "outputs": [
    {
     "name": "stdout",
     "output_type": "stream",
     "text": [
      "['u/PacmanTheHitman', 'u/AlternativeWaifu', 'u/Lesland', 'u/victorianlullaby', 'u/Other-Cantaloupe4765', 'u/holyhonduras', 'u/halezsz', 'u/turtlehospital', 'u/Megzilllla', 'u/oleladytake', 'u/zoeyaneliz', 'u/i8bagels', 'u/stuckist', 'u/Bubafool', 'u/Catriona97', 'u/always4eva', 'u/seriousreadr', 'u/humanefly', 'u/Burtonish', 'u/SqueezyCheesyIsGood', 'u/tikouka', 'u/Any-Surround69', 'u/spell24', 'u/EandKprophecy2', 'u/uliwonks']\n"
     ]
    },
    {
     "data": {
      "text/plain": [
       "25"
      ]
     },
     "execution_count": 20,
     "metadata": {},
     "output_type": "execute_result"
    }
   ],
   "source": [
    "print(username_list)\n",
    "len(username_list)"
   ]
  },
  {
   "cell_type": "code",
   "execution_count": 21,
   "metadata": {},
   "outputs": [],
   "source": [
    "# finding username link\n",
    "username_link_list = []\n",
    "for link in range(len(list_post_container)):\n",
    "    a = list_post_container[link].find('a',{'data-click-id':'user'})\n",
    "    user_link = a.get('href')\n",
    "    user_full_link = 'https://www.reddit.com'+ user_link\n",
    "    username_link_list.append(user_full_link)"
   ]
  },
  {
   "cell_type": "code",
   "execution_count": 22,
   "metadata": {},
   "outputs": [
    {
     "name": "stdout",
     "output_type": "stream",
     "text": [
      "['https://www.reddit.com/user/PacmanTheHitman/', 'https://www.reddit.com/user/AlternativeWaifu/', 'https://www.reddit.com/user/Lesland/', 'https://www.reddit.com/user/victorianlullaby/', 'https://www.reddit.com/user/Other-Cantaloupe4765/', 'https://www.reddit.com/user/holyhonduras/', 'https://www.reddit.com/user/halezsz/', 'https://www.reddit.com/user/turtlehospital/', 'https://www.reddit.com/user/Megzilllla/', 'https://www.reddit.com/user/oleladytake/', 'https://www.reddit.com/user/zoeyaneliz/', 'https://www.reddit.com/user/i8bagels/', 'https://www.reddit.com/user/stuckist/', 'https://www.reddit.com/user/Bubafool/', 'https://www.reddit.com/user/Catriona97/', 'https://www.reddit.com/user/always4eva/', 'https://www.reddit.com/user/seriousreadr/', 'https://www.reddit.com/user/humanefly/', 'https://www.reddit.com/user/Burtonish/', 'https://www.reddit.com/user/SqueezyCheesyIsGood/', 'https://www.reddit.com/user/tikouka/', 'https://www.reddit.com/user/Any-Surround69/', 'https://www.reddit.com/user/spell24/', 'https://www.reddit.com/user/EandKprophecy2/', 'https://www.reddit.com/user/uliwonks/']\n",
      "25\n"
     ]
    }
   ],
   "source": [
    "print(username_link_list)\n",
    "print(len(username_link_list))"
   ]
  },
  {
   "cell_type": "code",
   "execution_count": 23,
   "metadata": {},
   "outputs": [],
   "source": [
    "# subreddit name \n",
    "subreddit_list = []\n",
    "for link in range(len(list_post_container)):\n",
    "    a = list_post_container[link].find('a',{'data-click-id':'subreddit'}).get_text()\n",
    "    subreddit_list.append(a)"
   ]
  },
  {
   "cell_type": "code",
   "execution_count": 24,
   "metadata": {},
   "outputs": [
    {
     "name": "stdout",
     "output_type": "stream",
     "text": [
      "['r/oddlyterrifying', 'r/migraine', 'r/migraine', 'r/illnessfakers', 'r/migraine', 'r/migraine', 'r/COVID19positive', 'r/microdosing', 'r/migraine', 'r/migraine', 'r/LuLaNo', 'r/migraine', 'r/migraine', 'r/migraine', 'r/migraine', 'r/migraine', 'r/migraine', 'r/migraine', 'r/Marriage', 'r/migraine', 'r/migraine', 'r/migraine', 'r/AskDocs', 'r/migraine', 'r/migraine']\n",
      "25\n"
     ]
    }
   ],
   "source": [
    "print(subreddit_list)\n",
    "print(len(subreddit_list))"
   ]
  },
  {
   "cell_type": "code",
   "execution_count": 25,
   "metadata": {},
   "outputs": [],
   "source": [
    "# subreddit link\n",
    "\n",
    "subreddit_link_list = []\n",
    "for link in range(len(list_post_container)):\n",
    "    a = list_post_container[link].find('a',{'data-click-id':'subreddit'})\n",
    "    subreddit_link = a.get('href')\n",
    "    subreddit_full_link = 'https://www.reddit.com'+ subreddit_link\n",
    "    subreddit_link_list.append(subreddit_full_link)"
   ]
  },
  {
   "cell_type": "code",
   "execution_count": 26,
   "metadata": {},
   "outputs": [
    {
     "name": "stdout",
     "output_type": "stream",
     "text": [
      "['https://www.reddit.com/r/oddlyterrifying/', 'https://www.reddit.com/r/migraine/', 'https://www.reddit.com/r/migraine/', 'https://www.reddit.com/r/illnessfakers/', 'https://www.reddit.com/r/migraine/', 'https://www.reddit.com/r/migraine/', 'https://www.reddit.com/r/COVID19positive/', 'https://www.reddit.com/r/microdosing/', 'https://www.reddit.com/r/migraine/', 'https://www.reddit.com/r/migraine/', 'https://www.reddit.com/r/LuLaNo/', 'https://www.reddit.com/r/migraine/', 'https://www.reddit.com/r/migraine/', 'https://www.reddit.com/r/migraine/', 'https://www.reddit.com/r/migraine/', 'https://www.reddit.com/r/migraine/', 'https://www.reddit.com/r/migraine/', 'https://www.reddit.com/r/migraine/', 'https://www.reddit.com/r/Marriage/', 'https://www.reddit.com/r/migraine/', 'https://www.reddit.com/r/migraine/', 'https://www.reddit.com/r/migraine/', 'https://www.reddit.com/r/AskDocs/', 'https://www.reddit.com/r/migraine/', 'https://www.reddit.com/r/migraine/']\n",
      "25\n"
     ]
    }
   ],
   "source": [
    "print(subreddit_link_list)\n",
    "print(len(subreddit_link_list))"
   ]
  },
  {
   "cell_type": "code",
   "execution_count": 29,
   "metadata": {},
   "outputs": [],
   "source": [
    "# extracting all post text and saving it to list\n",
    "post_content = []\n",
    "for i in range(len(list_link_post_1)):\n",
    "    \n",
    "    driver.get(list_link_post_1[i])\n",
    "    pagesource_link = driver.page_source\n",
    "    soup = BeautifulSoup(pagesource_link, 'html.parser')\n",
    "    post = soup.find('div',{'data-test-id':\"post-content\"})\n",
    "    post_inside = post.find('div',{'data-click-id':\"text\"})\n",
    "    if post_inside == None or post_inside.p == None :\n",
    "        post_content.append(\"----NO TEXT----\")\n",
    "    else:\n",
    "#         first_p_tag = post_inside.p.string\n",
    "#         if post_inside.p == None:\n",
    "#             post_content.append(\"----NO TEXT----\")\n",
    "        first_p_tag = post_inside.p.string\n",
    "        for sibling in post_inside.p.next_siblings:\n",
    "            all_p = sibling.string\n",
    "#     first_p_tag contain string of first p tag so i add string of all siblings\n",
    "            if all_p is None:\n",
    "                all_p = \" \"\n",
    "            first_p_tag = first_p_tag +\" \"+ all_p \n",
    "            \n",
    "    \n",
    "        post_content.append(first_p_tag)"
   ]
  },
  {
   "cell_type": "code",
   "execution_count": 30,
   "metadata": {},
   "outputs": [
    {
     "name": "stdout",
     "output_type": "stream",
     "text": [
      "['----NO TEXT----', 'I’ve always thought it was interesting how different people handle migraines. For example, both myself and my mom have chronic migraines, but other than sleeping it off and taking meds, our own personal healing protocols are VERY different. For example, I like to drink smoothies to the point I get a brain freeze (which feels amazing for the migraine imo lol), use ice packs on my neck, and essentially eat like a rabbit. She, however, prefers hot drinks, hot packs on her eyes, and lots of chocolate. So what protocols do you take part in when you have a migraine that you swear by? EDIT: This post has turned into something beautiful. I am so happy my random curiosity has turned into a post where people can share and relate with one another about a problem that debilitates all of us. \\U0001f972', '----NO TEXT----', '----NO TEXT----', '----NO TEXT----', '----NO TEXT----', \"I am keeping a log of my experience with COVID as this is my first time getting it. But the one thing that is really just taking it's toll on me is the headaches. I have migraines to begin with and these are horrible. There's a cold chill in my sinuses all day ( i don't know how else to describe it). And my eyes. My eyes hurt so bad. I just want to cry. I can't stand to look at the floor or ceiling, let alone a phone or computer. And believe me I'm taking long breaks to try and alleviate it, but it is not helping. I don't think my Imitrex will help? I don't know what to do about it it hurts so so bad. I have to go back to work Monday ad I am a nurse and I'm afraid I'm going to be so distracted and miserable if this persists.\", 'I have chronic migraine, after about 15 years I’m in a pretty good place where I only get about 5 a month now (from 18). Sometimes I got them for days on end.', 'My chronic migraines were… waking up every single day with some level of headache, never being able to let the sun in the apartment or turn up the lights, not enjoying music anymore. Migraines 4-5 days of the week on a good week. Tension headaches and nummular headaches thrown in the mix for variety. So triptans helped but made me hallucinate and kept me bedridden with the side effects. We failed for over a year to find a preventative that did anything. Nurtec came along last September and only worked half the time, but at least it was that. I didn’t have enough for all my migraines and had to choose which days of the week were most important for me to be functional. We tried Botox in December, and once it kicked in I had several weeks with almost no migraines. I didn’t wake up with headaches anymore. It was a freaking miracle. And guess what? When the Botox is working the nurtec works all the time!!! And I have few enough migraines that I have enough abortive medicine. The Botox wore off long before the next treatment, but I’m told that next time it should last a bit better. And when I went for a check in for my Neuro she gave me occipital nerve blocks to help me get from then to my next Botox. It’s been almost a year and a half since I fell ill and have had chronic migraines as a result. And for the first time in a long time, I have hope. I have so much more energy, I’m sleeping better, I’m starting to be able to work on my mobility again. It’s made such a huge difference to my quality of life. I didn’t think I was ever going to get to wake up happy again. If you’re struggling to find the right treatment, please don’t give up! When you do, it’ll be a complete game changer!', 'I know these are a little crazy sounding but am I the only one so desperate to find answers that I start considering EVERYthing a trigger?   What are some of the things you’ve wondered about over the years? Or am I totally alone in this constant pursuit of triggers??', '----NO TEXT----', \"I got into a bit of a funk yesterday, and today I got hit real bad with a migraine.  What's your experience been?\", 'I had a really bad Migraine today, woke up at 4am and it has already set in. Got up and took my triptan  (replax), Naproxen and Domperidone but my digestive system had just shut down so the medication couldn’t get into my system. I was trying all my migraines tricks; tiger balm, ice packs, hot water bottle, hot shower, compression, can of cola. Nothing was shifting it and I was feeling more and more nauseous on top of the pain. At one point I was in the shower and I thought to myself “I hope I’m not dying here, that I‘m having a brain bleed or something and I just assume it’s a migraine. That actually happened to a family member of mine who said the brain hemorrhage was less painful than their usual migraines, luckily they survived! Finally after 7 hours of hell my digestion finally moved and the drugs hit my system and ai began to recover and I was able to sleep. When I got up a couple of hours later I told my husband what a bad migraine that had beven and the pain was so bad at one point Id wondered if there was actually some seriously wrong with me. He rolled his eyes at that. What an asshole! I do get that unless you actually suffer with migraines you will never really get it and I don’t even think there is much anyone can do for you while you are suffer except leave you alone but to roll your eyes at them! Anyway this is pretty much just a rant about people, even people who love you not taking migraines seriously or having much understanding about what it’s like.', '----NO TEXT----', 'Today in particular I\\'m feeling the loneliness behind being someone with migraines. I\\'ve had a horrible migraine since 5 am. I\\'m out of abortives and my pain pills aren\\'t helping all that much. My right eye is squinty and feels hugely swollen (even though it\\'s not). My scalp hurts and I want to cry (actually I am crying). My family basically leaves me alone. They don\\'t ask how I\\'m doing or if I need anything. To them this is just another one of my \"headaches\" that I have all the time.  Even when they act like they understand, I can see the complete lack of awareness or understanding in their eyes. It\\'s so frustrating. I\\'m not looking for someone to wait on me hand and foot, but I would LOVE someone to acknowledge my that my pain is real and that it\\'s debilitating. There is SO much loneliness in this pain and it just makes dealing with migraines worse. I\\'m so tired of all of this. Of the pain, the meds, the interruptions to my life, the lack of understanding...everything. I just want it to stop. Sorry for dumping this on here, but I have no where else or anyone else to talk to about this.', 'Edit: I’m blown away by the response to this post. It’s kinda comforting to know that I’m not alone in my suffering. It’s also kinda sad that so many of us have to bear this pain. Thank you all for your replies!! I learnt a few tips that really helped me yesterday when I had one of the worst migraines ever! Here’s wishing us all better days ahead!', \"I seem to have always gotten headaches from long car rides or being out in the sun too long.  I love being on a boat but I think it gave me headaches this weekend.  Do other people have this, and if so, how do you manage long car rides or other outside fun things, bbq's, fairs, parties etc.?  Do you just not ever do them?  There is no way I can completely avoid long car rides. . . (I always wear sunglasses but does not prevent the headache.)\", 'I had so many digestive issues and spent so much time with such a wide variety of doctors and specialists that as they years turned into decades i just gave up on doctors and decided to do my best with what I had. I tried to accept my chronic illnesses and disabilities. I thought I had irritable bowel. Through a completely random event, I discovered an issue called \"histamine intolerance\". It turns out that all of the healthy food I was advised to eat, was making me incredibly ill: tomatoes, avocadoes, yogurt, saurkraut, spinach and on and on it\\'s all very high in histamine. I tried a low histamine diet from the mastcell360 site and within a day, my gut suddenly became... completely normal. My bowel movements became as regular and easy as a metronome: put food in the top end and it comes out the bottom end in a timely and regular fashion. I immediately ceased all laxative, aloe vera juice and prune intake. (Prunes are very high in histamine!) The constant sense of nausea very slowly went away. Almost every day, my energy levels increase. Sometimes I have bad days and I feel like I\\'ve really been through the ringer but the general trend is extremely positive. It\\'s been around 8 weeks and I\\'ve been trying to lower my migraine meds for many years due to side effects, but the withdrawals were terrible; In the last 8 weeks I cut my dose in half. Last Friday I deliberately skipped a dose to see how it went; last night I actually FORGOT my dose and didn\\'t wake up with a migraine. That\\'s a first I\\'m almost 50 years old. i\\'ve had terrible migraines my entire life. when I was young I was extremely thin but as an adult I became fairly obese. It didn\\'t seem to matter what I did, what i ate, or how much I exercised and exercise was a trigger so trying to maintain weight was extremely difficult. WIthin literally a few days of going low histamine, I looked in the mirror and started to recognize myself. The bloating disappeared; I can see my cheekbones for the first time in decades. My pants fit very loosely, they just hang off. It turns out I\\'m really not obese; it was some sort of bloating and water retention, I guess, from the histamine. It also turns out that exercise causes a rise on histamine. Everything makes sense for the first time in my life. I understand why I have to be careful to only exercise a little, and not push it. Another symptom that may be connected is that I\\'ve become ridiculously intolerant to cold weather; it doesn\\'t matter so much how many layers I have on. I live in Canada, so I have essentially become allergic to my entire country. I\\'m really hoping this goes away. It might be possible in time that I can start reintroducing histamine foods as the inflammation goes down; the diet is very limited. I feel like myself again, i guess, for the first time in a quarter century. It\\'s been an awfully long hard ride There may be some connection between low gut acidity and histamine intolerance. I take Webers Digestive Enzymes 30 mins before meals and this also helps. best wishes to all  ', \"My husband drove me. I get frequent migraines, but this one was going on for three days and was BAD, think, 9/10 pain. A few hours later I was wheeled around for an MRI, husband in tow. They gave me painkillers and later on did a spinal tap. I'd never had one before and was lucky to have a hand to hold. I received more painkillers and felt okay, so they discharged me. At home, however, I was unable to walk, sit, get up and lie down without being in agony. I cried in pain for hours. I'm grateful my husband takes the 'for worse' part of our vows seriously. The man helped me get off the toilet and didn't leave my side. It was the most painful day of my life, but I feel much closer to my husband thanks to it.\", 'I’m pregnant and due in September. I’m worried about labor for a number of reasons, especially the thought of having a migraine. I feel like I have to hold my brain inside my head as it is when I have a migraine so I can’t imagine pushing a human being out during one. Was it bad for you? Did the wild shift in hormones trigger a wicked migraine? Was the disrupted sleep or not being able to eat an issue? Did they give you meds for it that helped? I see my doctor on Friday for a regular check and I’ll bring it up with her. I’m just so afraid she’ll minimize everything. I need real stories.', '----NO TEXT----', '----NO TEXT----', 'I’m 31, female and it’s a Sunday which means I don’t have access to regular dr office care. I’ve had a migraine aura without headache for 6 hours now. I’ve only ever had 1 before and that only lasted about 30-45 minutes. Is this duration concerning? Everything I’ve read has stated 5-60 minutes. Should I go into the ER? I have no symptoms besides the aura(zigzag lines in the left peripheral vision. I slept, I took 4 ibuprofen and drank a cup of coffee -my mom recommended this combo, and I have not improved. I’m getting some anxiety about it at this point that it could be something more serious but I just don’t know. Any help would be appreciated. Edited to add I am on the nuvaring-just put a new one in 48 hours ago, I am on busparone 20 mg twice a day, and I am on strattera 30 mg. Update- I’m doing much better! I did another round of ibuprofen and coffee and now I just have some light sensitivity. I talked to a few friends with aura migraines and they mentioned that they can last up to 24 hours sometimes! Yikes! Glad mine is better. I’m gonna leave a message for my doctor and just check in with her and if it comes back I’ll go to urgent care. Thanks for all the help!', 'Every single time I have migraine meds especially gabapentin or propanol or anything that works for my anxiety or migraines… it needs more approval or it’s denied. Sometimes I swear they want to drive me insane.', 'I usually have one every 3 months after working out extensively but since my physical therapist gave me neck exercises, I haven’t gotten one since December 2021. Got trigger point injections a few times before December 2021 but they never really helped. Edit: Muscle tightness on the left side of neck is the reason why I started doing neck exercises.']\n",
      "25\n"
     ]
    }
   ],
   "source": [
    "print(post_content)\n",
    "print(len(post_content))"
   ]
  },
  {
   "cell_type": "markdown",
   "metadata": {},
   "source": [
    "### Saving into CSV format\n"
   ]
  },
  {
   "cell_type": "code",
   "execution_count": 32,
   "metadata": {},
   "outputs": [],
   "source": [
    "medical_data_migrain = pd.DataFrame({'Username':username_list,'Username Link':username_link_list,\n",
    "                                    'Subreddit':subreddit_list,'Subreddit Link':subreddit_link_list,\n",
    "                                    'Post Link':list_link_post_1,'Upvotes':upvotes_list,'Comment Count':comment_list,\n",
    "                                    'Post Content':post_content}) "
   ]
  },
  {
   "cell_type": "markdown",
   "metadata": {},
   "source": [
    "medical_data_migrain"
   ]
  },
  {
   "cell_type": "code",
   "execution_count": 33,
   "metadata": {},
   "outputs": [
    {
     "data": {
      "text/html": [
       "<div>\n",
       "<style scoped>\n",
       "    .dataframe tbody tr th:only-of-type {\n",
       "        vertical-align: middle;\n",
       "    }\n",
       "\n",
       "    .dataframe tbody tr th {\n",
       "        vertical-align: top;\n",
       "    }\n",
       "\n",
       "    .dataframe thead th {\n",
       "        text-align: right;\n",
       "    }\n",
       "</style>\n",
       "<table border=\"1\" class=\"dataframe\">\n",
       "  <thead>\n",
       "    <tr style=\"text-align: right;\">\n",
       "      <th></th>\n",
       "      <th>Username</th>\n",
       "      <th>Username Link</th>\n",
       "      <th>Subreddit</th>\n",
       "      <th>Subreddit Link</th>\n",
       "      <th>Post Link</th>\n",
       "      <th>Upvotes</th>\n",
       "      <th>Comment Count</th>\n",
       "      <th>Post Content</th>\n",
       "    </tr>\n",
       "  </thead>\n",
       "  <tbody>\n",
       "    <tr>\n",
       "      <th>0</th>\n",
       "      <td>u/PacmanTheHitman</td>\n",
       "      <td>https://www.reddit.com/user/PacmanTheHitman/</td>\n",
       "      <td>r/oddlyterrifying</td>\n",
       "      <td>https://www.reddit.com/r/oddlyterrifying/</td>\n",
       "      <td>https://www.reddit.com/r/oddlyterrifying/comme...</td>\n",
       "      <td>11.3k upvotes</td>\n",
       "      <td>335 comments</td>\n",
       "      <td>----NO TEXT----</td>\n",
       "    </tr>\n",
       "    <tr>\n",
       "      <th>1</th>\n",
       "      <td>u/AlternativeWaifu</td>\n",
       "      <td>https://www.reddit.com/user/AlternativeWaifu/</td>\n",
       "      <td>r/migraine</td>\n",
       "      <td>https://www.reddit.com/r/migraine/</td>\n",
       "      <td>https://www.reddit.com/r/migraine/comments/vcu...</td>\n",
       "      <td>134 upvotes</td>\n",
       "      <td>203 comments</td>\n",
       "      <td>I’ve always thought it was interesting how dif...</td>\n",
       "    </tr>\n",
       "    <tr>\n",
       "      <th>2</th>\n",
       "      <td>u/Lesland</td>\n",
       "      <td>https://www.reddit.com/user/Lesland/</td>\n",
       "      <td>r/migraine</td>\n",
       "      <td>https://www.reddit.com/r/migraine/</td>\n",
       "      <td>https://www.reddit.com/r/migraine/comments/ved...</td>\n",
       "      <td>177 upvotes</td>\n",
       "      <td>200 comments</td>\n",
       "      <td>----NO TEXT----</td>\n",
       "    </tr>\n",
       "    <tr>\n",
       "      <th>3</th>\n",
       "      <td>u/victorianlullaby</td>\n",
       "      <td>https://www.reddit.com/user/victorianlullaby/</td>\n",
       "      <td>r/illnessfakers</td>\n",
       "      <td>https://www.reddit.com/r/illnessfakers/</td>\n",
       "      <td>https://www.reddit.com/r/illnessfakers/comment...</td>\n",
       "      <td>299 upvotes</td>\n",
       "      <td>237 comments</td>\n",
       "      <td>----NO TEXT----</td>\n",
       "    </tr>\n",
       "    <tr>\n",
       "      <th>4</th>\n",
       "      <td>u/Other-Cantaloupe4765</td>\n",
       "      <td>https://www.reddit.com/user/Other-Cantaloupe4765/</td>\n",
       "      <td>r/migraine</td>\n",
       "      <td>https://www.reddit.com/r/migraine/</td>\n",
       "      <td>https://www.reddit.com/r/migraine/comments/ur6...</td>\n",
       "      <td>883 upvotes</td>\n",
       "      <td>81 comments</td>\n",
       "      <td>----NO TEXT----</td>\n",
       "    </tr>\n",
       "    <tr>\n",
       "      <th>5</th>\n",
       "      <td>u/holyhonduras</td>\n",
       "      <td>https://www.reddit.com/user/holyhonduras/</td>\n",
       "      <td>r/migraine</td>\n",
       "      <td>https://www.reddit.com/r/migraine/</td>\n",
       "      <td>https://www.reddit.com/r/migraine/comments/u5o...</td>\n",
       "      <td>95 upvotes</td>\n",
       "      <td>359 comments</td>\n",
       "      <td>----NO TEXT----</td>\n",
       "    </tr>\n",
       "    <tr>\n",
       "      <th>6</th>\n",
       "      <td>u/halezsz</td>\n",
       "      <td>https://www.reddit.com/user/halezsz/</td>\n",
       "      <td>r/COVID19positive</td>\n",
       "      <td>https://www.reddit.com/r/COVID19positive/</td>\n",
       "      <td>https://www.reddit.com/r/COVID19positive/comme...</td>\n",
       "      <td>2 upvotes</td>\n",
       "      <td>13 comments</td>\n",
       "      <td>I am keeping a log of my experience with COVID...</td>\n",
       "    </tr>\n",
       "    <tr>\n",
       "      <th>7</th>\n",
       "      <td>u/turtlehospital</td>\n",
       "      <td>https://www.reddit.com/user/turtlehospital/</td>\n",
       "      <td>r/microdosing</td>\n",
       "      <td>https://www.reddit.com/r/microdosing/</td>\n",
       "      <td>https://www.reddit.com/r/microdosing/comments/...</td>\n",
       "      <td>5 upvotes</td>\n",
       "      <td>20 comments</td>\n",
       "      <td>I have chronic migraine, after about 15 years ...</td>\n",
       "    </tr>\n",
       "    <tr>\n",
       "      <th>8</th>\n",
       "      <td>u/Megzilllla</td>\n",
       "      <td>https://www.reddit.com/user/Megzilllla/</td>\n",
       "      <td>r/migraine</td>\n",
       "      <td>https://www.reddit.com/r/migraine/</td>\n",
       "      <td>https://www.reddit.com/r/migraine/comments/tfg...</td>\n",
       "      <td>231 upvotes</td>\n",
       "      <td>76 comments</td>\n",
       "      <td>My chronic migraines were… waking up every sin...</td>\n",
       "    </tr>\n",
       "    <tr>\n",
       "      <th>9</th>\n",
       "      <td>u/oleladytake</td>\n",
       "      <td>https://www.reddit.com/user/oleladytake/</td>\n",
       "      <td>r/migraine</td>\n",
       "      <td>https://www.reddit.com/r/migraine/</td>\n",
       "      <td>https://www.reddit.com/r/migraine/comments/vvn...</td>\n",
       "      <td>122 upvotes</td>\n",
       "      <td>161 comments</td>\n",
       "      <td>I know these are a little crazy sounding but a...</td>\n",
       "    </tr>\n",
       "    <tr>\n",
       "      <th>10</th>\n",
       "      <td>u/zoeyaneliz</td>\n",
       "      <td>https://www.reddit.com/user/zoeyaneliz/</td>\n",
       "      <td>r/LuLaNo</td>\n",
       "      <td>https://www.reddit.com/r/LuLaNo/</td>\n",
       "      <td>https://www.reddit.com/r/LuLaNo/comments/vuc52...</td>\n",
       "      <td>752 upvotes</td>\n",
       "      <td>42 comments</td>\n",
       "      <td>----NO TEXT----</td>\n",
       "    </tr>\n",
       "    <tr>\n",
       "      <th>11</th>\n",
       "      <td>u/i8bagels</td>\n",
       "      <td>https://www.reddit.com/user/i8bagels/</td>\n",
       "      <td>r/migraine</td>\n",
       "      <td>https://www.reddit.com/r/migraine/</td>\n",
       "      <td>https://www.reddit.com/r/migraine/comments/vt6...</td>\n",
       "      <td>147 upvotes</td>\n",
       "      <td>100 comments</td>\n",
       "      <td>I got into a bit of a funk yesterday, and toda...</td>\n",
       "    </tr>\n",
       "    <tr>\n",
       "      <th>12</th>\n",
       "      <td>u/stuckist</td>\n",
       "      <td>https://www.reddit.com/user/stuckist/</td>\n",
       "      <td>r/migraine</td>\n",
       "      <td>https://www.reddit.com/r/migraine/</td>\n",
       "      <td>https://www.reddit.com/r/migraine/comments/vuc...</td>\n",
       "      <td>224 upvotes</td>\n",
       "      <td>70 comments</td>\n",
       "      <td>I had a really bad Migraine today, woke up at ...</td>\n",
       "    </tr>\n",
       "    <tr>\n",
       "      <th>13</th>\n",
       "      <td>u/Bubafool</td>\n",
       "      <td>https://www.reddit.com/user/Bubafool/</td>\n",
       "      <td>r/migraine</td>\n",
       "      <td>https://www.reddit.com/r/migraine/</td>\n",
       "      <td>https://www.reddit.com/r/migraine/comments/vv7...</td>\n",
       "      <td>167 upvotes</td>\n",
       "      <td>76 comments</td>\n",
       "      <td>----NO TEXT----</td>\n",
       "    </tr>\n",
       "    <tr>\n",
       "      <th>14</th>\n",
       "      <td>u/Catriona97</td>\n",
       "      <td>https://www.reddit.com/user/Catriona97/</td>\n",
       "      <td>r/migraine</td>\n",
       "      <td>https://www.reddit.com/r/migraine/</td>\n",
       "      <td>https://www.reddit.com/r/migraine/comments/vos...</td>\n",
       "      <td>310 upvotes</td>\n",
       "      <td>92 comments</td>\n",
       "      <td>Today in particular I'm feeling the loneliness...</td>\n",
       "    </tr>\n",
       "    <tr>\n",
       "      <th>15</th>\n",
       "      <td>u/always4eva</td>\n",
       "      <td>https://www.reddit.com/user/always4eva/</td>\n",
       "      <td>r/migraine</td>\n",
       "      <td>https://www.reddit.com/r/migraine/</td>\n",
       "      <td>https://www.reddit.com/r/migraine/comments/vkz...</td>\n",
       "      <td>399 upvotes</td>\n",
       "      <td>155 comments</td>\n",
       "      <td>Edit: I’m blown away by the response to this p...</td>\n",
       "    </tr>\n",
       "    <tr>\n",
       "      <th>16</th>\n",
       "      <td>u/seriousreadr</td>\n",
       "      <td>https://www.reddit.com/user/seriousreadr/</td>\n",
       "      <td>r/migraine</td>\n",
       "      <td>https://www.reddit.com/r/migraine/</td>\n",
       "      <td>https://www.reddit.com/r/migraine/comments/vsq...</td>\n",
       "      <td>172 upvotes</td>\n",
       "      <td>79 comments</td>\n",
       "      <td>I seem to have always gotten headaches from lo...</td>\n",
       "    </tr>\n",
       "    <tr>\n",
       "      <th>17</th>\n",
       "      <td>u/humanefly</td>\n",
       "      <td>https://www.reddit.com/user/humanefly/</td>\n",
       "      <td>r/migraine</td>\n",
       "      <td>https://www.reddit.com/r/migraine/</td>\n",
       "      <td>https://www.reddit.com/r/migraine/comments/vnx...</td>\n",
       "      <td>199 upvotes</td>\n",
       "      <td>90 comments</td>\n",
       "      <td>I had so many digestive issues and spent so mu...</td>\n",
       "    </tr>\n",
       "    <tr>\n",
       "      <th>18</th>\n",
       "      <td>u/Burtonish</td>\n",
       "      <td>https://www.reddit.com/user/Burtonish/</td>\n",
       "      <td>r/Marriage</td>\n",
       "      <td>https://www.reddit.com/r/Marriage/</td>\n",
       "      <td>https://www.reddit.com/r/Marriage/comments/vs6...</td>\n",
       "      <td>403 upvotes</td>\n",
       "      <td>43 comments</td>\n",
       "      <td>My husband drove me. I get frequent migraines,...</td>\n",
       "    </tr>\n",
       "    <tr>\n",
       "      <th>19</th>\n",
       "      <td>u/SqueezyCheesyIsGood</td>\n",
       "      <td>https://www.reddit.com/user/SqueezyCheesyIsGood/</td>\n",
       "      <td>r/migraine</td>\n",
       "      <td>https://www.reddit.com/r/migraine/</td>\n",
       "      <td>https://www.reddit.com/r/migraine/comments/vrg...</td>\n",
       "      <td>68 upvotes</td>\n",
       "      <td>97 comments</td>\n",
       "      <td>I’m pregnant and due in September. I’m worried...</td>\n",
       "    </tr>\n",
       "    <tr>\n",
       "      <th>20</th>\n",
       "      <td>u/tikouka</td>\n",
       "      <td>https://www.reddit.com/user/tikouka/</td>\n",
       "      <td>r/migraine</td>\n",
       "      <td>https://www.reddit.com/r/migraine/</td>\n",
       "      <td>https://www.reddit.com/r/migraine/comments/v3m...</td>\n",
       "      <td>761 upvotes</td>\n",
       "      <td>195 comments</td>\n",
       "      <td>----NO TEXT----</td>\n",
       "    </tr>\n",
       "    <tr>\n",
       "      <th>21</th>\n",
       "      <td>u/Any-Surround69</td>\n",
       "      <td>https://www.reddit.com/user/Any-Surround69/</td>\n",
       "      <td>r/migraine</td>\n",
       "      <td>https://www.reddit.com/r/migraine/</td>\n",
       "      <td>https://www.reddit.com/r/migraine/comments/vru...</td>\n",
       "      <td>32 upvotes</td>\n",
       "      <td>110 comments</td>\n",
       "      <td>----NO TEXT----</td>\n",
       "    </tr>\n",
       "    <tr>\n",
       "      <th>22</th>\n",
       "      <td>u/spell24</td>\n",
       "      <td>https://www.reddit.com/user/spell24/</td>\n",
       "      <td>r/AskDocs</td>\n",
       "      <td>https://www.reddit.com/r/AskDocs/</td>\n",
       "      <td>https://www.reddit.com/r/AskDocs/comments/vqew...</td>\n",
       "      <td>141 upvotes</td>\n",
       "      <td>55 comments</td>\n",
       "      <td>I’m 31, female and it’s a Sunday which means I...</td>\n",
       "    </tr>\n",
       "    <tr>\n",
       "      <th>23</th>\n",
       "      <td>u/EandKprophecy2</td>\n",
       "      <td>https://www.reddit.com/user/EandKprophecy2/</td>\n",
       "      <td>r/migraine</td>\n",
       "      <td>https://www.reddit.com/r/migraine/</td>\n",
       "      <td>https://www.reddit.com/r/migraine/comments/vtz...</td>\n",
       "      <td>54 upvotes</td>\n",
       "      <td>67 comments</td>\n",
       "      <td>Every single time I have migraine meds especia...</td>\n",
       "    </tr>\n",
       "    <tr>\n",
       "      <th>24</th>\n",
       "      <td>u/uliwonks</td>\n",
       "      <td>https://www.reddit.com/user/uliwonks/</td>\n",
       "      <td>r/migraine</td>\n",
       "      <td>https://www.reddit.com/r/migraine/</td>\n",
       "      <td>https://www.reddit.com/r/migraine/comments/vrk...</td>\n",
       "      <td>171 upvotes</td>\n",
       "      <td>37 comments</td>\n",
       "      <td>I usually have one every 3 months after workin...</td>\n",
       "    </tr>\n",
       "  </tbody>\n",
       "</table>\n",
       "</div>"
      ],
      "text/plain": [
       "                  Username                                      Username Link  \\\n",
       "0        u/PacmanTheHitman       https://www.reddit.com/user/PacmanTheHitman/   \n",
       "1       u/AlternativeWaifu      https://www.reddit.com/user/AlternativeWaifu/   \n",
       "2                u/Lesland               https://www.reddit.com/user/Lesland/   \n",
       "3       u/victorianlullaby      https://www.reddit.com/user/victorianlullaby/   \n",
       "4   u/Other-Cantaloupe4765  https://www.reddit.com/user/Other-Cantaloupe4765/   \n",
       "5           u/holyhonduras          https://www.reddit.com/user/holyhonduras/   \n",
       "6                u/halezsz               https://www.reddit.com/user/halezsz/   \n",
       "7         u/turtlehospital        https://www.reddit.com/user/turtlehospital/   \n",
       "8             u/Megzilllla            https://www.reddit.com/user/Megzilllla/   \n",
       "9            u/oleladytake           https://www.reddit.com/user/oleladytake/   \n",
       "10            u/zoeyaneliz            https://www.reddit.com/user/zoeyaneliz/   \n",
       "11              u/i8bagels              https://www.reddit.com/user/i8bagels/   \n",
       "12              u/stuckist              https://www.reddit.com/user/stuckist/   \n",
       "13              u/Bubafool              https://www.reddit.com/user/Bubafool/   \n",
       "14            u/Catriona97            https://www.reddit.com/user/Catriona97/   \n",
       "15            u/always4eva            https://www.reddit.com/user/always4eva/   \n",
       "16          u/seriousreadr          https://www.reddit.com/user/seriousreadr/   \n",
       "17             u/humanefly             https://www.reddit.com/user/humanefly/   \n",
       "18             u/Burtonish             https://www.reddit.com/user/Burtonish/   \n",
       "19   u/SqueezyCheesyIsGood   https://www.reddit.com/user/SqueezyCheesyIsGood/   \n",
       "20               u/tikouka               https://www.reddit.com/user/tikouka/   \n",
       "21        u/Any-Surround69        https://www.reddit.com/user/Any-Surround69/   \n",
       "22               u/spell24               https://www.reddit.com/user/spell24/   \n",
       "23        u/EandKprophecy2        https://www.reddit.com/user/EandKprophecy2/   \n",
       "24              u/uliwonks              https://www.reddit.com/user/uliwonks/   \n",
       "\n",
       "            Subreddit                             Subreddit Link  \\\n",
       "0   r/oddlyterrifying  https://www.reddit.com/r/oddlyterrifying/   \n",
       "1          r/migraine         https://www.reddit.com/r/migraine/   \n",
       "2          r/migraine         https://www.reddit.com/r/migraine/   \n",
       "3     r/illnessfakers    https://www.reddit.com/r/illnessfakers/   \n",
       "4          r/migraine         https://www.reddit.com/r/migraine/   \n",
       "5          r/migraine         https://www.reddit.com/r/migraine/   \n",
       "6   r/COVID19positive  https://www.reddit.com/r/COVID19positive/   \n",
       "7       r/microdosing      https://www.reddit.com/r/microdosing/   \n",
       "8          r/migraine         https://www.reddit.com/r/migraine/   \n",
       "9          r/migraine         https://www.reddit.com/r/migraine/   \n",
       "10           r/LuLaNo           https://www.reddit.com/r/LuLaNo/   \n",
       "11         r/migraine         https://www.reddit.com/r/migraine/   \n",
       "12         r/migraine         https://www.reddit.com/r/migraine/   \n",
       "13         r/migraine         https://www.reddit.com/r/migraine/   \n",
       "14         r/migraine         https://www.reddit.com/r/migraine/   \n",
       "15         r/migraine         https://www.reddit.com/r/migraine/   \n",
       "16         r/migraine         https://www.reddit.com/r/migraine/   \n",
       "17         r/migraine         https://www.reddit.com/r/migraine/   \n",
       "18         r/Marriage         https://www.reddit.com/r/Marriage/   \n",
       "19         r/migraine         https://www.reddit.com/r/migraine/   \n",
       "20         r/migraine         https://www.reddit.com/r/migraine/   \n",
       "21         r/migraine         https://www.reddit.com/r/migraine/   \n",
       "22          r/AskDocs          https://www.reddit.com/r/AskDocs/   \n",
       "23         r/migraine         https://www.reddit.com/r/migraine/   \n",
       "24         r/migraine         https://www.reddit.com/r/migraine/   \n",
       "\n",
       "                                            Post Link        Upvotes  \\\n",
       "0   https://www.reddit.com/r/oddlyterrifying/comme...  11.3k upvotes   \n",
       "1   https://www.reddit.com/r/migraine/comments/vcu...    134 upvotes   \n",
       "2   https://www.reddit.com/r/migraine/comments/ved...    177 upvotes   \n",
       "3   https://www.reddit.com/r/illnessfakers/comment...    299 upvotes   \n",
       "4   https://www.reddit.com/r/migraine/comments/ur6...    883 upvotes   \n",
       "5   https://www.reddit.com/r/migraine/comments/u5o...     95 upvotes   \n",
       "6   https://www.reddit.com/r/COVID19positive/comme...      2 upvotes   \n",
       "7   https://www.reddit.com/r/microdosing/comments/...      5 upvotes   \n",
       "8   https://www.reddit.com/r/migraine/comments/tfg...    231 upvotes   \n",
       "9   https://www.reddit.com/r/migraine/comments/vvn...    122 upvotes   \n",
       "10  https://www.reddit.com/r/LuLaNo/comments/vuc52...    752 upvotes   \n",
       "11  https://www.reddit.com/r/migraine/comments/vt6...    147 upvotes   \n",
       "12  https://www.reddit.com/r/migraine/comments/vuc...    224 upvotes   \n",
       "13  https://www.reddit.com/r/migraine/comments/vv7...    167 upvotes   \n",
       "14  https://www.reddit.com/r/migraine/comments/vos...    310 upvotes   \n",
       "15  https://www.reddit.com/r/migraine/comments/vkz...    399 upvotes   \n",
       "16  https://www.reddit.com/r/migraine/comments/vsq...    172 upvotes   \n",
       "17  https://www.reddit.com/r/migraine/comments/vnx...    199 upvotes   \n",
       "18  https://www.reddit.com/r/Marriage/comments/vs6...    403 upvotes   \n",
       "19  https://www.reddit.com/r/migraine/comments/vrg...     68 upvotes   \n",
       "20  https://www.reddit.com/r/migraine/comments/v3m...    761 upvotes   \n",
       "21  https://www.reddit.com/r/migraine/comments/vru...     32 upvotes   \n",
       "22  https://www.reddit.com/r/AskDocs/comments/vqew...    141 upvotes   \n",
       "23  https://www.reddit.com/r/migraine/comments/vtz...     54 upvotes   \n",
       "24  https://www.reddit.com/r/migraine/comments/vrk...    171 upvotes   \n",
       "\n",
       "   Comment Count                                       Post Content  \n",
       "0   335 comments                                    ----NO TEXT----  \n",
       "1   203 comments  I’ve always thought it was interesting how dif...  \n",
       "2   200 comments                                    ----NO TEXT----  \n",
       "3   237 comments                                    ----NO TEXT----  \n",
       "4    81 comments                                    ----NO TEXT----  \n",
       "5   359 comments                                    ----NO TEXT----  \n",
       "6    13 comments  I am keeping a log of my experience with COVID...  \n",
       "7    20 comments  I have chronic migraine, after about 15 years ...  \n",
       "8    76 comments  My chronic migraines were… waking up every sin...  \n",
       "9   161 comments  I know these are a little crazy sounding but a...  \n",
       "10   42 comments                                    ----NO TEXT----  \n",
       "11  100 comments  I got into a bit of a funk yesterday, and toda...  \n",
       "12   70 comments  I had a really bad Migraine today, woke up at ...  \n",
       "13   76 comments                                    ----NO TEXT----  \n",
       "14   92 comments  Today in particular I'm feeling the loneliness...  \n",
       "15  155 comments  Edit: I’m blown away by the response to this p...  \n",
       "16   79 comments  I seem to have always gotten headaches from lo...  \n",
       "17   90 comments  I had so many digestive issues and spent so mu...  \n",
       "18   43 comments  My husband drove me. I get frequent migraines,...  \n",
       "19   97 comments  I’m pregnant and due in September. I’m worried...  \n",
       "20  195 comments                                    ----NO TEXT----  \n",
       "21  110 comments                                    ----NO TEXT----  \n",
       "22   55 comments  I’m 31, female and it’s a Sunday which means I...  \n",
       "23   67 comments  Every single time I have migraine meds especia...  \n",
       "24   37 comments  I usually have one every 3 months after workin...  "
      ]
     },
     "execution_count": 33,
     "metadata": {},
     "output_type": "execute_result"
    }
   ],
   "source": [
    "medical_data_migrain"
   ]
  },
  {
   "cell_type": "code",
   "execution_count": null,
   "metadata": {},
   "outputs": [],
   "source": []
  }
 ],
 "metadata": {
  "kernelspec": {
   "display_name": "Python 3",
   "language": "python",
   "name": "python3"
  },
  "language_info": {
   "codemirror_mode": {
    "name": "ipython",
    "version": 3
   },
   "file_extension": ".py",
   "mimetype": "text/x-python",
   "name": "python",
   "nbconvert_exporter": "python",
   "pygments_lexer": "ipython3",
   "version": "3.8.3"
  }
 },
 "nbformat": 4,
 "nbformat_minor": 4
}
